{
 "cells": [
  {
   "cell_type": "code",
   "execution_count": 15,
   "metadata": {},
   "outputs": [
    {
     "name": "stderr",
     "output_type": "stream",
     "text": [
      "Summarize dataset:  80%|████████  | 28/35 [00:00<00:02,  3.50it/s, Calculate cramers correlation]       c:\\Users\\singhpar\\Code\\QuickEDA\\venv\\lib\\site-packages\\pandas_profiling\\model\\correlations.py:55: UserWarning: There was an attempt to calculate the cramers correlation, but this failed.\n",
      "To hide this warning, disable the calculation\n",
      "(using `df.profile_report(correlations={\"cramers\": {\"calculate\": False}})`\n",
      "If this is problematic for your use case, please report this as an issue:\n",
      "https://github.com/pandas-profiling/pandas-profiling/issues\n",
      "(include the error message: 'No data; `observed` has size 0.')\n",
      "  warnings.warn(\n",
      "Summarize dataset: 100%|██████████| 40/40 [00:02<00:00, 16.04it/s, Completed]                    \n",
      "Generate report structure: 100%|██████████| 1/1 [00:04<00:00,  4.29s/it]\n",
      "Render HTML: 100%|██████████| 1/1 [00:00<00:00,  1.06it/s]\n",
      "Export report to file: 100%|██████████| 1/1 [00:00<00:00, 167.20it/s]\n"
     ]
    }
   ],
   "source": [
    "#imports \n",
    "import pandas as pd\n",
    "from pandas_profiling import ProfileReport\n",
    "import tkinter as tk\n",
    "from tkinter import filedialog\n",
    "\n",
    "# display \n",
    "root = tk.Tk()\n",
    "root.withdraw()\n",
    "\n",
    "# get file path\n",
    "file_path = filedialog.askopenfilename()\n",
    "\n",
    "# import data in a pandas dataframe\n",
    "df = pd.read_excel(file_path)\n",
    "\n",
    "# use the filepath to generate pandas profiling\n",
    "profile = ProfileReport(df, title=\"Pandas Profiling Report\")\n",
    "\n",
    "profile.to_file(\"your_report.html\")"
   ]
  }
 ],
 "metadata": {
  "kernelspec": {
   "display_name": "Python 3.10.6 ('venv': venv)",
   "language": "python",
   "name": "python3"
  },
  "language_info": {
   "codemirror_mode": {
    "name": "ipython",
    "version": 3
   },
   "file_extension": ".py",
   "mimetype": "text/x-python",
   "name": "python",
   "nbconvert_exporter": "python",
   "pygments_lexer": "ipython3",
   "version": "3.10.6"
  },
  "orig_nbformat": 4,
  "vscode": {
   "interpreter": {
    "hash": "368ba82fa850d5f00d32df55c460e1d0a95d073d510353111ca2e21f34023772"
   }
  }
 },
 "nbformat": 4,
 "nbformat_minor": 2
}
